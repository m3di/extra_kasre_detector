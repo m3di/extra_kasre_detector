{
 "metadata": {
  "language_info": {
   "codemirror_mode": {
    "name": "ipython",
    "version": 3
   },
   "file_extension": ".py",
   "mimetype": "text/x-python",
   "name": "python",
   "nbconvert_exporter": "python",
   "pygments_lexer": "ipython3",
   "version": "3.8.5"
  },
  "orig_nbformat": 2,
  "kernelspec": {
   "name": "python385jvsc74a57bd0b3ba2566441a7c06988d0923437866b63cedc61552a5af99d1f4fb67d367b25f",
   "display_name": "Python 3.8.5 64-bit ('base': conda)"
  }
 },
 "nbformat": 4,
 "nbformat_minor": 2,
 "cells": [
  {
   "cell_type": "code",
   "execution_count": 1,
   "metadata": {},
   "outputs": [],
   "source": [
    "import pickle\n",
    "from dataset import CustomDataset\n",
    "from model import MyModel\n",
    "import torch\n",
    "from tqdm.notebook import tqdm\n",
    "\n",
    "%load_ext autoreload\n",
    "%autoreload 2"
   ]
  },
  {
   "cell_type": "code",
   "execution_count": 6,
   "metadata": {},
   "outputs": [],
   "source": [
    "with open('../pos', 'rb') as file:\n",
    "    t = pickle.load(file)"
   ]
  },
  {
   "cell_type": "code",
   "execution_count": 3,
   "metadata": {
    "tags": []
   },
   "outputs": [
    {
     "output_type": "stream",
     "name": "stdout",
     "text": [
      "loading data...\n",
      "removing length outliers...\n",
      " 10%|█         | 6969/68645 [00:00<00:00, 69004.51it/s]embedding data...\n",
      "100%|██████████| 68645/68645 [00:01<00:00, 67992.86it/s]\n"
     ]
    }
   ],
   "source": [
    "dataset = ds.CustomDataset('../train.data', t=t, java_path=\"C:\\\\Program Files\\\\Common Files\\\\Oracle\\\\Java\\\\javapath\")"
   ]
  },
  {
   "cell_type": "code",
   "execution_count": 4,
   "metadata": {},
   "outputs": [],
   "source": [
    "model = model.MyModel(len(dataset.tokens) + 1, 32, 128, [256, 128, 64])"
   ]
  },
  {
   "cell_type": "code",
   "execution_count": 15,
   "metadata": {},
   "outputs": [],
   "source": [
    "x = dataset[1:110]\n",
    "o = torch.sigmoid(model(x[0], torch.LongTensor(x[1])).squeeze())"
   ]
  },
  {
   "cell_type": "code",
   "execution_count": 16,
   "metadata": {},
   "outputs": [
    {
     "output_type": "execute_result",
     "data": {
      "text/plain": [
       "torch.Size([109, 91])"
      ]
     },
     "metadata": {},
     "execution_count": 16
    }
   ],
   "source": [
    "o.shape"
   ]
  },
  {
   "cell_type": "code",
   "execution_count": 17,
   "metadata": {},
   "outputs": [],
   "source": [
    "from functions import binary_acc"
   ]
  },
  {
   "cell_type": "code",
   "execution_count": 18,
   "metadata": {},
   "outputs": [
    {
     "output_type": "stream",
     "name": "stdout",
     "text": [
      "torch.Size([109, 91]) torch.Size([109, 91])\n"
     ]
    },
    {
     "output_type": "execute_result",
     "data": {
      "text/plain": [
       "tensor(81.)"
      ]
     },
     "metadata": {},
     "execution_count": 18
    }
   ],
   "source": [
    "binary_acc(o, torch.Tensor(x[2]))"
   ]
  },
  {
   "cell_type": "code",
   "execution_count": 1,
   "metadata": {},
   "outputs": [
    {
     "output_type": "stream",
     "name": "stdout",
     "text": [
      "Running on the GPU\n"
     ]
    }
   ],
   "source": [
    "from functions import generate_model"
   ]
  },
  {
   "cell_type": "code",
   "execution_count": 22,
   "metadata": {
    "tags": []
   },
   "outputs": [
    {
     "output_type": "stream",
     "name": "stdout",
     "text": [
      "Running on the GPU\n",
      "proccessing data...\n",
      "loading data...\n",
      "  0%|          | 0/68645 [00:00<?, ?it/s]removing length outliers...\n",
      "embedding data...\n",
      "100%|██████████| 68645/68645 [00:00<00:00, 71203.79it/s]\n"
     ]
    },
    {
     "output_type": "display_data",
     "data": {
      "text/plain": "HBox(children=(HTML(value='Epochs'), FloatProgress(value=0.0, max=10.0), HTML(value='')))",
      "application/vnd.jupyter.widget-view+json": {
       "version_major": 2,
       "version_minor": 0,
       "model_id": "f6fa788b90304d60a80376bfea3b1963"
      }
     },
     "metadata": {}
    },
    {
     "output_type": "display_data",
     "data": {
      "text/plain": "HBox(children=(HTML(value='Training Batches'), FloatProgress(value=0.0, max=1073.0), HTML(value='')))",
      "application/vnd.jupyter.widget-view+json": {
       "version_major": 2,
       "version_minor": 0,
       "model_id": "652b713624b94a31adc195f9db44a548"
      }
     },
     "metadata": {}
    },
    {
     "output_type": "stream",
     "name": "stdout",
     "text": [
      "epoch 1 | loss: 2.15824 | accuracy: 94.55%\n"
     ]
    },
    {
     "output_type": "display_data",
     "data": {
      "text/plain": "HBox(children=(HTML(value='Training Batches'), FloatProgress(value=0.0, max=1073.0), HTML(value='')))",
      "application/vnd.jupyter.widget-view+json": {
       "version_major": 2,
       "version_minor": 0,
       "model_id": "54a2843c087049aa90e3ae786f8dc4cb"
      }
     },
     "metadata": {}
    },
    {
     "output_type": "stream",
     "name": "stdout",
     "text": [
      "epoch 2 | loss: 2.12908 | accuracy: 94.57%\n"
     ]
    },
    {
     "output_type": "display_data",
     "data": {
      "text/plain": "HBox(children=(HTML(value='Training Batches'), FloatProgress(value=0.0, max=1073.0), HTML(value='')))",
      "application/vnd.jupyter.widget-view+json": {
       "version_major": 2,
       "version_minor": 0,
       "model_id": "6b1b5f94c06d40348a4a2cf9ab6ec249"
      }
     },
     "metadata": {}
    },
    {
     "output_type": "stream",
     "name": "stdout",
     "text": [
      "epoch 3 | loss: 2.12572 | accuracy: 94.61%\n"
     ]
    },
    {
     "output_type": "display_data",
     "data": {
      "text/plain": "HBox(children=(HTML(value='Training Batches'), FloatProgress(value=0.0, max=1073.0), HTML(value='')))",
      "application/vnd.jupyter.widget-view+json": {
       "version_major": 2,
       "version_minor": 0,
       "model_id": "ce15866aefe04d428f7472b772f0ab3d"
      }
     },
     "metadata": {}
    },
    {
     "output_type": "stream",
     "name": "stdout",
     "text": [
      "epoch 4 | loss: 2.12430 | accuracy: 94.63%\n"
     ]
    },
    {
     "output_type": "display_data",
     "data": {
      "text/plain": "HBox(children=(HTML(value='Training Batches'), FloatProgress(value=0.0, max=1073.0), HTML(value='')))",
      "application/vnd.jupyter.widget-view+json": {
       "version_major": 2,
       "version_minor": 0,
       "model_id": "48294efae3c148d6867c81e0f109768e"
      }
     },
     "metadata": {}
    },
    {
     "output_type": "stream",
     "name": "stdout",
     "text": [
      "epoch 5 | loss: 2.12291 | accuracy: 94.65%\n"
     ]
    },
    {
     "output_type": "display_data",
     "data": {
      "text/plain": "HBox(children=(HTML(value='Training Batches'), FloatProgress(value=0.0, max=1073.0), HTML(value='')))",
      "application/vnd.jupyter.widget-view+json": {
       "version_major": 2,
       "version_minor": 0,
       "model_id": "b86f8ad6f6324e558fb4d5dee0fa0745"
      }
     },
     "metadata": {}
    },
    {
     "output_type": "stream",
     "name": "stdout",
     "text": [
      "epoch 6 | loss: 2.12214 | accuracy: 94.66%\n"
     ]
    },
    {
     "output_type": "display_data",
     "data": {
      "text/plain": "HBox(children=(HTML(value='Training Batches'), FloatProgress(value=0.0, max=1073.0), HTML(value='')))",
      "application/vnd.jupyter.widget-view+json": {
       "version_major": 2,
       "version_minor": 0,
       "model_id": "531cc929c28443d89fbb8d0c9c6080fe"
      }
     },
     "metadata": {}
    },
    {
     "output_type": "stream",
     "name": "stdout",
     "text": [
      "epoch 7 | loss: 2.12157 | accuracy: 94.67%\n"
     ]
    },
    {
     "output_type": "display_data",
     "data": {
      "text/plain": "HBox(children=(HTML(value='Training Batches'), FloatProgress(value=0.0, max=1073.0), HTML(value='')))",
      "application/vnd.jupyter.widget-view+json": {
       "version_major": 2,
       "version_minor": 0,
       "model_id": "8ccf339f57aa4767a2ca29a17d06a091"
      }
     },
     "metadata": {}
    },
    {
     "output_type": "stream",
     "name": "stdout",
     "text": [
      "epoch 8 | loss: 2.12073 | accuracy: 94.70%\n"
     ]
    },
    {
     "output_type": "display_data",
     "data": {
      "text/plain": "HBox(children=(HTML(value='Training Batches'), FloatProgress(value=0.0, max=1073.0), HTML(value='')))",
      "application/vnd.jupyter.widget-view+json": {
       "version_major": 2,
       "version_minor": 0,
       "model_id": "60a9e17e27184d6dab7f1e1da26c84b8"
      }
     },
     "metadata": {}
    },
    {
     "output_type": "stream",
     "name": "stdout",
     "text": [
      "epoch 9 | loss: 2.12051 | accuracy: 94.71%\n"
     ]
    },
    {
     "output_type": "display_data",
     "data": {
      "text/plain": "HBox(children=(HTML(value='Training Batches'), FloatProgress(value=0.0, max=1073.0), HTML(value='')))",
      "application/vnd.jupyter.widget-view+json": {
       "version_major": 2,
       "version_minor": 0,
       "model_id": "8c64b150c5e148ebb68ae5c84de1c20c"
      }
     },
     "metadata": {}
    },
    {
     "output_type": "stream",
     "name": "stdout",
     "text": [
      "epoch 10 | loss: 2.11987 | accuracy: 94.73%\n\nFinished Training\n"
     ]
    }
   ],
   "source": [
    "e = generate_model('../train.data', t=t, java_path=\"C:\\\\Program Files\\\\Common Files\\\\Oracle\\\\Java\\\\javapath\")"
   ]
  },
  {
   "cell_type": "code",
   "execution_count": 23,
   "metadata": {},
   "outputs": [],
   "source": [
    "tokens, t, model = e"
   ]
  },
  {
   "cell_type": "code",
   "execution_count": 8,
   "metadata": {},
   "outputs": [],
   "source": [
    "with open('pos', 'wb') as file:\n",
    "    pickle.dump(t, file)"
   ]
  },
  {
   "cell_type": "code",
   "execution_count": 25,
   "metadata": {},
   "outputs": [],
   "source": [
    "torch.save(model.state_dict(), 'model.pt')"
   ]
  },
  {
   "cell_type": "code",
   "execution_count": 3,
   "metadata": {},
   "outputs": [],
   "source": [
    "with open('tokens.pickle', 'rb') as file:\n",
    "    tokens = pickle.load(file)"
   ]
  },
  {
   "cell_type": "code",
   "execution_count": 4,
   "metadata": {},
   "outputs": [
    {
     "output_type": "execute_result",
     "data": {
      "text/plain": [
       "{1: 'oov',\n",
       " 'N': 2,\n",
       " 'DELM': 3,\n",
       " 'ADJ': 4,\n",
       " 'PO': 5,\n",
       " 'CON': 6,\n",
       " 'AR': 7,\n",
       " 'ADV': 8,\n",
       " 'V_PR': 9,\n",
       " '.': 10,\n",
       " 'DET': 11,\n",
       " 'V_PA': 12,\n",
       " 'PRO': 13,\n",
       " 'PS': 14,\n",
       " 'IF': 15,\n",
       " 'MORP': 16,\n",
       " 'PP': 17,\n",
       " 'FW': 18,\n",
       " 'OH': 19,\n",
       " 'INT': 20,\n",
       " 'NN': 21}"
      ]
     },
     "metadata": {},
     "execution_count": 4
    }
   ],
   "source": [
    "tokens"
   ]
  },
  {
   "cell_type": "code",
   "execution_count": 8,
   "metadata": {},
   "outputs": [],
   "source": [
    "with open('./pos', 'rb') as file:\n",
    "    t = pickle.load(file)"
   ]
  },
  {
   "cell_type": "code",
   "execution_count": 9,
   "metadata": {},
   "outputs": [
    {
     "output_type": "stream",
     "name": "stdout",
     "text": [
      "loading data...\n",
      "100%|██████████| 6431/6431 [00:00<00:00, 79371.38it/s]removing length outliers...\n",
      "embedding data...\n",
      "\n"
     ]
    }
   ],
   "source": [
    "dataset = CustomDataset('../test.data', tokens=tokens, t=t, java_path=\"C:\\\\Program Files\\\\Common Files\\\\Oracle\\\\Java\\\\javapath\")"
   ]
  },
  {
   "cell_type": "code",
   "execution_count": 5,
   "metadata": {},
   "outputs": [],
   "source": [
    "java_path=\"C:\\\\Program Files\\\\Common Files\\\\Oracle\\\\Java\\\\javapath\""
   ]
  },
  {
   "cell_type": "code",
   "execution_count": 6,
   "metadata": {},
   "outputs": [
    {
     "output_type": "stream",
     "name": "stderr",
     "text": [
      "2021-06-04 14:20:17,356\tINFO services.py:1267 -- View the Ray dashboard at \u001b[1m\u001b[32mhttp://127.0.0.1:8265\u001b[39m\u001b[22m\n"
     ]
    },
    {
     "output_type": "execute_result",
     "data": {
      "text/plain": [
       "{'node_ip_address': '127.0.0.1',\n",
       " 'raylet_ip_address': '127.0.0.1',\n",
       " 'redis_address': '127.0.0.1:6379',\n",
       " 'object_store_address': 'tcp://127.0.0.1:51201',\n",
       " 'raylet_socket_name': 'tcp://127.0.0.1:9664',\n",
       " 'webui_url': '127.0.0.1:8265',\n",
       " 'session_dir': 'C:\\\\Users\\\\moham\\\\AppData\\\\Local\\\\Temp\\\\ray\\\\session_2021-06-04_14-20-11_849712_32500',\n",
       " 'metrics_export_port': 25985,\n",
       " 'node_id': '122c37499235af69ed3647d5edc3f1b64938bb12ecd4daec9cb9a601'}"
      ]
     },
     "metadata": {},
     "execution_count": 6
    }
   ],
   "source": [
    "from parsivar import POSTagger\n",
    "import ray\n",
    "ray.init(ignore_reinit_error=True)"
   ]
  },
  {
   "cell_type": "code",
   "execution_count": 7,
   "metadata": {
    "tags": []
   },
   "outputs": [],
   "source": [
    "tagger = POSTagger(tagging_model=\"wapiti\", jdk_variable_path=java_path)\n",
    "@ray.remote\n",
    "def transform(x):\n",
    "    i, j = x\n",
    "    a = tagger.parse(j)\n",
    "    with open('./t/' + str(i) + '.txt', 'wb') as file:\n",
    "        pickle.dump(a, file)\n",
    "    return a\n",
    "futures = [transform.remote(i) for i in enumerate(dataset.x)]\n",
    "t = ray.get(futures)"
   ]
  },
  {
   "cell_type": "code",
   "execution_count": null,
   "metadata": {},
   "outputs": [],
   "source": [
    "t"
   ]
  },
  {
   "cell_type": "code",
   "execution_count": 10,
   "metadata": {},
   "outputs": [
    {
     "output_type": "execute_result",
     "data": {
      "text/plain": [
       "<All keys matched successfully>"
      ]
     },
     "metadata": {},
     "execution_count": 10
    }
   ],
   "source": [
    "model = MyModel(len(tokens) + 1, 32, 128, [256, 128, 64])\n",
    "model.load_state_dict(torch.load('model.pt'))"
   ]
  },
  {
   "cell_type": "code",
   "execution_count": 12,
   "metadata": {},
   "outputs": [
    {
     "output_type": "stream",
     "name": "stdout",
     "text": [
      "Running on the GPU\n"
     ]
    }
   ],
   "source": [
    "if torch.cuda.is_available():\n",
    "    device = torch.device(\"cuda:0\")\n",
    "    print(\"Running on the GPU\")\n",
    "else:\n",
    "    device = torch.device(\"cpu\")\n",
    "    print(\"Running on the CPU\")\n"
   ]
  },
  {
   "cell_type": "code",
   "execution_count": 25,
   "metadata": {},
   "outputs": [],
   "source": [
    "def binary_acc(y_pred, y_test):\n",
    "    y_pred_tag = torch.round(torch.sigmoid(y_pred))\n",
    "\n",
    "    correct_results_sum = (y_pred_tag == y_test).sum().float()\n",
    "    acc = correct_results_sum / (y_test.shape[0])\n",
    "    acc = torch.round(acc * 100)\n",
    "    \n",
    "    return acc"
   ]
  },
  {
   "cell_type": "code",
   "execution_count": 14,
   "metadata": {},
   "outputs": [],
   "source": [
    "test_loader = torch.utils.data.DataLoader(dataset, batch_size=64)"
   ]
  },
  {
   "cell_type": "code",
   "execution_count": 16,
   "metadata": {},
   "outputs": [],
   "source": [
    "model = model.to(device)"
   ]
  },
  {
   "cell_type": "code",
   "execution_count": 32,
   "metadata": {
    "tags": []
   },
   "outputs": [
    {
     "output_type": "display_data",
     "data": {
      "text/plain": "HBox(children=(HTML(value='Batches'), FloatProgress(value=0.0, max=101.0), HTML(value='')))",
      "application/vnd.jupyter.widget-view+json": {
       "version_major": 2,
       "version_minor": 0,
       "model_id": "501ecdc202424b12a63f8e751062ee66"
      }
     },
     "metadata": {}
    }
   ],
   "source": [
    "real = []\n",
    "pred = []\n",
    "\n",
    "with torch.no_grad():\n",
    "\n",
    "    model.eval()\n",
    "\n",
    "    for lengths, inputs, labels in tqdm(test_loader, desc='Batches', leave=False):\n",
    "        inputs, labels = inputs.to(device), labels.to(device)\n",
    "        outputs = model(lengths, inputs).squeeze()\n",
    "        for i, l in enumerate(lengths):\n",
    "            pred += torch.round(torch.sigmoid(outputs[i])).detach().cpu().tolist()\n",
    "            real += labels[i].detach().cpu().tolist()"
   ]
  },
  {
   "cell_type": "code",
   "execution_count": 30,
   "metadata": {},
   "outputs": [],
   "source": [
    "from sklearn.metrics import classification_report"
   ]
  },
  {
   "cell_type": "code",
   "execution_count": 33,
   "metadata": {},
   "outputs": [
    {
     "output_type": "stream",
     "name": "stdout",
     "text": [
      "              precision    recall  f1-score   support\n\n         0.0       0.93      1.00      0.96    560103\n         1.0       0.97      0.01      0.02     44411\n\n    accuracy                           0.93    604514\n   macro avg       0.95      0.50      0.49    604514\nweighted avg       0.93      0.93      0.89    604514\n\n"
     ]
    }
   ],
   "source": [
    "print(classification_report(real, pred))"
   ]
  },
  {
   "cell_type": "code",
   "execution_count": 12,
   "metadata": {},
   "outputs": [],
   "source": [
    "from functions import *"
   ]
  },
  {
   "cell_type": "code",
   "execution_count": 36,
   "metadata": {},
   "outputs": [
    {
     "output_type": "execute_result",
     "data": {
      "text/plain": [
       "<dataset.CustomDataset at 0x237a662e4f0>"
      ]
     },
     "metadata": {},
     "execution_count": 36
    }
   ],
   "source": [
    "dataset"
   ]
  },
  {
   "cell_type": "code",
   "execution_count": 13,
   "metadata": {},
   "outputs": [
    {
     "output_type": "display_data",
     "data": {
      "text/plain": "HBox(children=(HTML(value='Batches'), FloatProgress(value=0.0, max=101.0), HTML(value='')))",
      "application/vnd.jupyter.widget-view+json": {
       "version_major": 2,
       "version_minor": 0,
       "model_id": "53ee8fae628a44f58a63fda7ae60ede2"
      }
     },
     "metadata": {}
    },
    {
     "output_type": "execute_result",
     "data": {
      "text/plain": [
       "tensor(92.7426, device='cuda:0')"
      ]
     },
     "metadata": {},
     "execution_count": 13
    }
   ],
   "source": [
    "compute_accuracy(dataset, model)"
   ]
  }
 ]
}